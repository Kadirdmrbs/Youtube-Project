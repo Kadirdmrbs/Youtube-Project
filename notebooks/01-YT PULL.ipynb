{
 "cells": [
  {
   "cell_type": "code",
   "execution_count": 1,
   "id": "360a9f52",
   "metadata": {},
   "outputs": [],
   "source": [
    "from googleapiclient.discovery import build\n",
    "import pandas as pd"
   ]
  },
  {
   "cell_type": "code",
   "execution_count": 2,
   "id": "91ee4a30",
   "metadata": {},
   "outputs": [],
   "source": [
    "api_key = 'xxx'\n",
    "channel_id = 'xxx'\n",
    "\n",
    "youtube = build('youtube','v3',developerKey=api_key)"
   ]
  },
  {
   "cell_type": "markdown",
   "id": "14146f43",
   "metadata": {},
   "source": [
    "## Function to get channel statistics"
   ]
  },
  {
   "cell_type": "code",
   "execution_count": 3,
   "id": "157869eb",
   "metadata": {},
   "outputs": [],
   "source": [
    "def get_channel_stats(youtube,channel_id):\n",
    "    \n",
    "    request = youtube.channels().list(\n",
    "                                     part='snippet,contentDetails,statistics',\n",
    "                                     id=channel_id)\n",
    "    response = request.execute()\n",
    "    \n",
    "    data = dict(Channel_name = response['items'][0]['snippet']['title'],\n",
    "               Subscribers = response['items'][0]['statistics']['subscriberCount'],\n",
    "               Views = response['items'][0]['statistics']['viewCount'],\n",
    "               Total_videos = response['items'][0]['statistics']['videoCount'],\n",
    "               playlist_id = response['items'][0]['contentDetails']['relatedPlaylists']['uploads'])\n",
    "    \n",
    "    return data"
   ]
  },
  {
   "cell_type": "code",
   "execution_count": 4,
   "id": "7ec43b48",
   "metadata": {},
   "outputs": [
    {
     "data": {
      "text/plain": [
       "{'Channel_name': 'S Sport',\n",
       " 'Subscribers': '1130000',\n",
       " 'Views': '227818009',\n",
       " 'Total_videos': '9702',\n",
       " 'playlist_id': 'UUpdSUUHlxMjO0c5824FGcsA'}"
      ]
     },
     "execution_count": 4,
     "metadata": {},
     "output_type": "execute_result"
    }
   ],
   "source": [
    "get_channel_stats(youtube,channel_id)"
   ]
  },
  {
   "cell_type": "code",
   "execution_count": 5,
   "id": "4617996c",
   "metadata": {},
   "outputs": [],
   "source": [
    "channel_statistics = get_channel_stats(youtube,channel_id)"
   ]
  },
  {
   "cell_type": "code",
   "execution_count": 6,
   "id": "78cc4057",
   "metadata": {},
   "outputs": [],
   "source": [
    "channel_data = pd.DataFrame(channel_statistics,index=[0])"
   ]
  },
  {
   "cell_type": "code",
   "execution_count": 7,
   "id": "586ccdf9",
   "metadata": {},
   "outputs": [
    {
     "data": {
      "text/html": [
       "<div>\n",
       "<style scoped>\n",
       "    .dataframe tbody tr th:only-of-type {\n",
       "        vertical-align: middle;\n",
       "    }\n",
       "\n",
       "    .dataframe tbody tr th {\n",
       "        vertical-align: top;\n",
       "    }\n",
       "\n",
       "    .dataframe thead th {\n",
       "        text-align: right;\n",
       "    }\n",
       "</style>\n",
       "<table border=\"1\" class=\"dataframe\">\n",
       "  <thead>\n",
       "    <tr style=\"text-align: right;\">\n",
       "      <th></th>\n",
       "      <th>Channel_name</th>\n",
       "      <th>Subscribers</th>\n",
       "      <th>Views</th>\n",
       "      <th>Total_videos</th>\n",
       "      <th>playlist_id</th>\n",
       "    </tr>\n",
       "  </thead>\n",
       "  <tbody>\n",
       "    <tr>\n",
       "      <th>0</th>\n",
       "      <td>S Sport</td>\n",
       "      <td>1130000</td>\n",
       "      <td>227818009</td>\n",
       "      <td>9702</td>\n",
       "      <td>UUpdSUUHlxMjO0c5824FGcsA</td>\n",
       "    </tr>\n",
       "  </tbody>\n",
       "</table>\n",
       "</div>"
      ],
      "text/plain": [
       "  Channel_name Subscribers      Views Total_videos               playlist_id\n",
       "0      S Sport     1130000  227818009         9702  UUpdSUUHlxMjO0c5824FGcsA"
      ]
     },
     "execution_count": 7,
     "metadata": {},
     "output_type": "execute_result"
    }
   ],
   "source": [
    "channel_data"
   ]
  },
  {
   "cell_type": "code",
   "execution_count": 8,
   "id": "fd8ddc35",
   "metadata": {},
   "outputs": [
    {
     "data": {
      "text/plain": [
       "Channel_name    object\n",
       "Subscribers     object\n",
       "Views           object\n",
       "Total_videos    object\n",
       "playlist_id     object\n",
       "dtype: object"
      ]
     },
     "execution_count": 8,
     "metadata": {},
     "output_type": "execute_result"
    }
   ],
   "source": [
    "channel_data.dtypes"
   ]
  },
  {
   "cell_type": "code",
   "execution_count": 9,
   "id": "93a49176",
   "metadata": {},
   "outputs": [],
   "source": [
    "channel_data['Subscribers'] = pd.to_numeric(channel_data['Subscribers'])\n",
    "channel_data['Views'] = pd.to_numeric(channel_data['Views'])\n",
    "channel_data['Total_videos'] = pd.to_numeric(channel_data['Total_videos'])"
   ]
  },
  {
   "cell_type": "code",
   "execution_count": 10,
   "id": "339eb27c",
   "metadata": {},
   "outputs": [
    {
     "data": {
      "text/plain": [
       "Channel_name    object\n",
       "Subscribers      int64\n",
       "Views            int64\n",
       "Total_videos     int64\n",
       "playlist_id     object\n",
       "dtype: object"
      ]
     },
     "execution_count": 10,
     "metadata": {},
     "output_type": "execute_result"
    }
   ],
   "source": [
    "channel_data.dtypes"
   ]
  },
  {
   "cell_type": "code",
   "execution_count": 25,
   "id": "451acded",
   "metadata": {},
   "outputs": [],
   "source": [
    "channel_data.to_csv('csv/channel_data_04-11-22.csv',index=False)"
   ]
  },
  {
   "cell_type": "code",
   "execution_count": 14,
   "id": "166c2041",
   "metadata": {},
   "outputs": [
    {
     "data": {
      "text/plain": [
       "'UUpdSUUHlxMjO0c5824FGcsA'"
      ]
     },
     "execution_count": 14,
     "metadata": {},
     "output_type": "execute_result"
    }
   ],
   "source": [
    "channel_statistics['playlist_id']"
   ]
  },
  {
   "cell_type": "code",
   "execution_count": 15,
   "id": "d0c6da56",
   "metadata": {},
   "outputs": [],
   "source": [
    "playlist_id = channel_statistics['playlist_id']"
   ]
  },
  {
   "cell_type": "markdown",
   "id": "de3001c6",
   "metadata": {},
   "source": [
    "## Function to get video ids"
   ]
  },
  {
   "cell_type": "code",
   "execution_count": 16,
   "id": "becc7e74",
   "metadata": {},
   "outputs": [],
   "source": [
    "def get_video_ids(youtube,playlist_id):\n",
    "    \n",
    "    request = youtube.playlistItems().list(\n",
    "                                          part = 'contentDetails',\n",
    "                                          playlistId = playlist_id,\n",
    "                                          maxResults = 50)\n",
    "    response = request.execute()\n",
    "    \n",
    "    video_ids = []\n",
    "    \n",
    "    for i in range(len(response['items'])):\n",
    "        video_ids.append(response['items'][i]['contentDetails']['videoId'])\n",
    "        \n",
    "    next_page_token = response.get('nextPageToken')\n",
    "    more_pages = True\n",
    "    \n",
    "    while more_pages:\n",
    "        if next_page_token is None:\n",
    "            more_pages = False\n",
    "        else:         \n",
    "            request = youtube.playlistItems().list(\n",
    "                                          part = 'contentDetails',\n",
    "                                          playlistId = playlist_id,\n",
    "                                          maxResults = 50,\n",
    "                                          pageToken = next_page_token)\n",
    "            response = request.execute()\n",
    "            \n",
    "            for i in range(len(response['items'])):\n",
    "                video_ids.append(response['items'][i]['contentDetails']['videoId'])\n",
    "        \n",
    "            next_page_token = response.get('nextPageToken')\n",
    "    \n",
    "    return video_ids"
   ]
  },
  {
   "cell_type": "code",
   "execution_count": 17,
   "id": "7f3cff1b",
   "metadata": {},
   "outputs": [],
   "source": [
    "video_ids = get_video_ids(youtube,playlist_id)"
   ]
  },
  {
   "cell_type": "code",
   "execution_count": 18,
   "id": "bb211262",
   "metadata": {},
   "outputs": [
    {
     "data": {
      "text/plain": [
       "9698"
      ]
     },
     "execution_count": 18,
     "metadata": {},
     "output_type": "execute_result"
    }
   ],
   "source": [
    "len(video_ids)"
   ]
  },
  {
   "cell_type": "markdown",
   "id": "21c977ba",
   "metadata": {},
   "source": [
    "## Function to get video details"
   ]
  },
  {
   "cell_type": "code",
   "execution_count": 19,
   "id": "2e4a29f5",
   "metadata": {},
   "outputs": [],
   "source": [
    "def get_video_details(youtube,video_ids):\n",
    "    \n",
    "    all_video_stats = []\n",
    "    \n",
    "    for i in range(0,len(video_ids),50):\n",
    "        request = youtube.videos().list(\n",
    "                                        part = 'snippet,statistics,contentDetails,id',\n",
    "                                        id = ','.join(video_ids[i:i+50])\n",
    "                                       )\n",
    "        response = request.execute()\n",
    "        try:\n",
    "            for video in response['items']:\n",
    "                video_stats = dict(Id = video['id'],\n",
    "                              Title = video['snippet']['title'],\n",
    "                              Published_date = video['snippet']['publishedAt'],\n",
    "                              Views = video['statistics']['viewCount'],\n",
    "                              Likes = video['statistics']['likeCount'],\n",
    "                              Comments = video['statistics']['commentCount'],\n",
    "                              Duration = video['contentDetails']['duration']\n",
    "                              )\n",
    "                all_video_stats.append(video_stats)\n",
    "        except:\n",
    "            pass\n",
    "    \n",
    "    \n",
    "    return all_video_stats"
   ]
  },
  {
   "cell_type": "code",
   "execution_count": 20,
   "id": "73d859a8",
   "metadata": {},
   "outputs": [],
   "source": [
    "video_details = get_video_details(youtube,video_ids)"
   ]
  },
  {
   "cell_type": "code",
   "execution_count": 21,
   "id": "7c41227d",
   "metadata": {},
   "outputs": [],
   "source": [
    "video_data = pd.DataFrame(video_details)"
   ]
  },
  {
   "cell_type": "code",
   "execution_count": 22,
   "id": "efcb7ada",
   "metadata": {},
   "outputs": [
    {
     "data": {
      "text/html": [
       "<div>\n",
       "<style scoped>\n",
       "    .dataframe tbody tr th:only-of-type {\n",
       "        vertical-align: middle;\n",
       "    }\n",
       "\n",
       "    .dataframe tbody tr th {\n",
       "        vertical-align: top;\n",
       "    }\n",
       "\n",
       "    .dataframe thead th {\n",
       "        text-align: right;\n",
       "    }\n",
       "</style>\n",
       "<table border=\"1\" class=\"dataframe\">\n",
       "  <thead>\n",
       "    <tr style=\"text-align: right;\">\n",
       "      <th></th>\n",
       "      <th>Id</th>\n",
       "      <th>Title</th>\n",
       "      <th>Published_date</th>\n",
       "      <th>Views</th>\n",
       "      <th>Likes</th>\n",
       "      <th>Comments</th>\n",
       "      <th>Duration</th>\n",
       "    </tr>\n",
       "  </thead>\n",
       "  <tbody>\n",
       "    <tr>\n",
       "      <th>0</th>\n",
       "      <td>V0jlhEAScls</td>\n",
       "      <td>NBA I En İyi Oyunlar</td>\n",
       "      <td>2022-11-04T07:00:11Z</td>\n",
       "      <td>341</td>\n",
       "      <td>14</td>\n",
       "      <td>0</td>\n",
       "      <td>PT1M18S</td>\n",
       "    </tr>\n",
       "    <tr>\n",
       "      <th>1</th>\n",
       "      <td>EE9j8Vjslcs</td>\n",
       "      <td>Denver Nuggets - Oklahoma City Thunder Maç Öze...</td>\n",
       "      <td>2022-11-04T06:38:33Z</td>\n",
       "      <td>124</td>\n",
       "      <td>4</td>\n",
       "      <td>0</td>\n",
       "      <td>PT1M36S</td>\n",
       "    </tr>\n",
       "    <tr>\n",
       "      <th>2</th>\n",
       "      <td>2Mo1uJpiBl4</td>\n",
       "      <td>Golden State Warriors - Orlando Magic Maç Özet...</td>\n",
       "      <td>2022-11-04T06:38:30Z</td>\n",
       "      <td>393</td>\n",
       "      <td>7</td>\n",
       "      <td>2</td>\n",
       "      <td>PT2M3S</td>\n",
       "    </tr>\n",
       "    <tr>\n",
       "      <th>3</th>\n",
       "      <td>vN2q_eycKWw</td>\n",
       "      <td>Olimpia Milano - Real Madrid (77-83) - Maç Öze...</td>\n",
       "      <td>2022-11-03T22:12:26Z</td>\n",
       "      <td>4713</td>\n",
       "      <td>70</td>\n",
       "      <td>8</td>\n",
       "      <td>PT9M9S</td>\n",
       "    </tr>\n",
       "    <tr>\n",
       "      <th>4</th>\n",
       "      <td>y2mZrITfk7c</td>\n",
       "      <td>Bayern Münih - Anadolu Efes (81-78) - Maç Özet...</td>\n",
       "      <td>2022-11-03T21:48:40Z</td>\n",
       "      <td>22085</td>\n",
       "      <td>299</td>\n",
       "      <td>99</td>\n",
       "      <td>PT8M19S</td>\n",
       "    </tr>\n",
       "    <tr>\n",
       "      <th>...</th>\n",
       "      <td>...</td>\n",
       "      <td>...</td>\n",
       "      <td>...</td>\n",
       "      <td>...</td>\n",
       "      <td>...</td>\n",
       "      <td>...</td>\n",
       "      <td>...</td>\n",
       "    </tr>\n",
       "    <tr>\n",
       "      <th>9405</th>\n",
       "      <td>IvcdLnQOaJo</td>\n",
       "      <td>Yoel Romero'nun Luke Rockhold'u Nakavt Ettiği ...</td>\n",
       "      <td>2018-03-09T12:17:56Z</td>\n",
       "      <td>1837</td>\n",
       "      <td>21</td>\n",
       "      <td>5</td>\n",
       "      <td>PT34S</td>\n",
       "    </tr>\n",
       "    <tr>\n",
       "      <th>9406</th>\n",
       "      <td>_Q_uV0PuPB0</td>\n",
       "      <td>Jessica Andrade - Tecia Torres Dövüşünde Gecen...</td>\n",
       "      <td>2018-03-09T12:17:55Z</td>\n",
       "      <td>1147</td>\n",
       "      <td>12</td>\n",
       "      <td>1</td>\n",
       "      <td>PT25S</td>\n",
       "    </tr>\n",
       "    <tr>\n",
       "      <th>9407</th>\n",
       "      <td>btVGCtXxKzg</td>\n",
       "      <td>Marc Marquez'in Şampiyonluk Heyecanı! (MotoGP ...</td>\n",
       "      <td>2018-03-09T12:17:55Z</td>\n",
       "      <td>353</td>\n",
       "      <td>4</td>\n",
       "      <td>4</td>\n",
       "      <td>PT2M7S</td>\n",
       "    </tr>\n",
       "    <tr>\n",
       "      <th>9408</th>\n",
       "      <td>xQgGHq76X7Q</td>\n",
       "      <td>Marquez Hata Yaptı Ama... (MotoGP 2017 - Valen...</td>\n",
       "      <td>2018-03-09T12:17:55Z</td>\n",
       "      <td>1105</td>\n",
       "      <td>13</td>\n",
       "      <td>3</td>\n",
       "      <td>PT34S</td>\n",
       "    </tr>\n",
       "    <tr>\n",
       "      <th>9409</th>\n",
       "      <td>mT1liYCSyho</td>\n",
       "      <td>S Sport YouTube'da!</td>\n",
       "      <td>2018-03-08T15:13:03Z</td>\n",
       "      <td>10441</td>\n",
       "      <td>51</td>\n",
       "      <td>8</td>\n",
       "      <td>PT1M3S</td>\n",
       "    </tr>\n",
       "  </tbody>\n",
       "</table>\n",
       "<p>9410 rows × 7 columns</p>\n",
       "</div>"
      ],
      "text/plain": [
       "               Id                                              Title  \\\n",
       "0     V0jlhEAScls                               NBA I En İyi Oyunlar   \n",
       "1     EE9j8Vjslcs  Denver Nuggets - Oklahoma City Thunder Maç Öze...   \n",
       "2     2Mo1uJpiBl4  Golden State Warriors - Orlando Magic Maç Özet...   \n",
       "3     vN2q_eycKWw  Olimpia Milano - Real Madrid (77-83) - Maç Öze...   \n",
       "4     y2mZrITfk7c  Bayern Münih - Anadolu Efes (81-78) - Maç Özet...   \n",
       "...           ...                                                ...   \n",
       "9405  IvcdLnQOaJo  Yoel Romero'nun Luke Rockhold'u Nakavt Ettiği ...   \n",
       "9406  _Q_uV0PuPB0  Jessica Andrade - Tecia Torres Dövüşünde Gecen...   \n",
       "9407  btVGCtXxKzg  Marc Marquez'in Şampiyonluk Heyecanı! (MotoGP ...   \n",
       "9408  xQgGHq76X7Q  Marquez Hata Yaptı Ama... (MotoGP 2017 - Valen...   \n",
       "9409  mT1liYCSyho                                S Sport YouTube'da!   \n",
       "\n",
       "            Published_date  Views Likes Comments Duration  \n",
       "0     2022-11-04T07:00:11Z    341    14        0  PT1M18S  \n",
       "1     2022-11-04T06:38:33Z    124     4        0  PT1M36S  \n",
       "2     2022-11-04T06:38:30Z    393     7        2   PT2M3S  \n",
       "3     2022-11-03T22:12:26Z   4713    70        8   PT9M9S  \n",
       "4     2022-11-03T21:48:40Z  22085   299       99  PT8M19S  \n",
       "...                    ...    ...   ...      ...      ...  \n",
       "9405  2018-03-09T12:17:56Z   1837    21        5    PT34S  \n",
       "9406  2018-03-09T12:17:55Z   1147    12        1    PT25S  \n",
       "9407  2018-03-09T12:17:55Z    353     4        4   PT2M7S  \n",
       "9408  2018-03-09T12:17:55Z   1105    13        3    PT34S  \n",
       "9409  2018-03-08T15:13:03Z  10441    51        8   PT1M3S  \n",
       "\n",
       "[9410 rows x 7 columns]"
      ]
     },
     "execution_count": 22,
     "metadata": {},
     "output_type": "execute_result"
    }
   ],
   "source": [
    "video_data"
   ]
  },
  {
   "cell_type": "code",
   "execution_count": 27,
   "id": "c13aa1c6",
   "metadata": {},
   "outputs": [],
   "source": [
    "video_data.to_csv('csv/video_data_04-11-22.csv',index=False)"
   ]
  },
  {
   "cell_type": "code",
   "execution_count": 28,
   "id": "59666872",
   "metadata": {},
   "outputs": [
    {
     "data": {
      "text/html": [
       "<div>\n",
       "<style scoped>\n",
       "    .dataframe tbody tr th:only-of-type {\n",
       "        vertical-align: middle;\n",
       "    }\n",
       "\n",
       "    .dataframe tbody tr th {\n",
       "        vertical-align: top;\n",
       "    }\n",
       "\n",
       "    .dataframe thead th {\n",
       "        text-align: right;\n",
       "    }\n",
       "</style>\n",
       "<table border=\"1\" class=\"dataframe\">\n",
       "  <thead>\n",
       "    <tr style=\"text-align: right;\">\n",
       "      <th></th>\n",
       "      <th>Id</th>\n",
       "      <th>Title</th>\n",
       "      <th>Published_date</th>\n",
       "      <th>Views</th>\n",
       "      <th>Likes</th>\n",
       "      <th>Comments</th>\n",
       "      <th>Duration</th>\n",
       "    </tr>\n",
       "  </thead>\n",
       "  <tbody>\n",
       "    <tr>\n",
       "      <th>0</th>\n",
       "      <td>V0jlhEAScls</td>\n",
       "      <td>NBA I En İyi Oyunlar</td>\n",
       "      <td>2022-11-04T07:00:11Z</td>\n",
       "      <td>341</td>\n",
       "      <td>14</td>\n",
       "      <td>0</td>\n",
       "      <td>PT1M18S</td>\n",
       "    </tr>\n",
       "    <tr>\n",
       "      <th>1</th>\n",
       "      <td>EE9j8Vjslcs</td>\n",
       "      <td>Denver Nuggets - Oklahoma City Thunder Maç Öze...</td>\n",
       "      <td>2022-11-04T06:38:33Z</td>\n",
       "      <td>124</td>\n",
       "      <td>4</td>\n",
       "      <td>0</td>\n",
       "      <td>PT1M36S</td>\n",
       "    </tr>\n",
       "    <tr>\n",
       "      <th>2</th>\n",
       "      <td>2Mo1uJpiBl4</td>\n",
       "      <td>Golden State Warriors - Orlando Magic Maç Özet...</td>\n",
       "      <td>2022-11-04T06:38:30Z</td>\n",
       "      <td>393</td>\n",
       "      <td>7</td>\n",
       "      <td>2</td>\n",
       "      <td>PT2M3S</td>\n",
       "    </tr>\n",
       "    <tr>\n",
       "      <th>3</th>\n",
       "      <td>vN2q_eycKWw</td>\n",
       "      <td>Olimpia Milano - Real Madrid (77-83) - Maç Öze...</td>\n",
       "      <td>2022-11-03T22:12:26Z</td>\n",
       "      <td>4713</td>\n",
       "      <td>70</td>\n",
       "      <td>8</td>\n",
       "      <td>PT9M9S</td>\n",
       "    </tr>\n",
       "    <tr>\n",
       "      <th>4</th>\n",
       "      <td>y2mZrITfk7c</td>\n",
       "      <td>Bayern Münih - Anadolu Efes (81-78) - Maç Özet...</td>\n",
       "      <td>2022-11-03T21:48:40Z</td>\n",
       "      <td>22085</td>\n",
       "      <td>299</td>\n",
       "      <td>99</td>\n",
       "      <td>PT8M19S</td>\n",
       "    </tr>\n",
       "    <tr>\n",
       "      <th>...</th>\n",
       "      <td>...</td>\n",
       "      <td>...</td>\n",
       "      <td>...</td>\n",
       "      <td>...</td>\n",
       "      <td>...</td>\n",
       "      <td>...</td>\n",
       "      <td>...</td>\n",
       "    </tr>\n",
       "    <tr>\n",
       "      <th>9405</th>\n",
       "      <td>IvcdLnQOaJo</td>\n",
       "      <td>Yoel Romero'nun Luke Rockhold'u Nakavt Ettiği ...</td>\n",
       "      <td>2018-03-09T12:17:56Z</td>\n",
       "      <td>1837</td>\n",
       "      <td>21</td>\n",
       "      <td>5</td>\n",
       "      <td>PT34S</td>\n",
       "    </tr>\n",
       "    <tr>\n",
       "      <th>9406</th>\n",
       "      <td>_Q_uV0PuPB0</td>\n",
       "      <td>Jessica Andrade - Tecia Torres Dövüşünde Gecen...</td>\n",
       "      <td>2018-03-09T12:17:55Z</td>\n",
       "      <td>1147</td>\n",
       "      <td>12</td>\n",
       "      <td>1</td>\n",
       "      <td>PT25S</td>\n",
       "    </tr>\n",
       "    <tr>\n",
       "      <th>9407</th>\n",
       "      <td>btVGCtXxKzg</td>\n",
       "      <td>Marc Marquez'in Şampiyonluk Heyecanı! (MotoGP ...</td>\n",
       "      <td>2018-03-09T12:17:55Z</td>\n",
       "      <td>353</td>\n",
       "      <td>4</td>\n",
       "      <td>4</td>\n",
       "      <td>PT2M7S</td>\n",
       "    </tr>\n",
       "    <tr>\n",
       "      <th>9408</th>\n",
       "      <td>xQgGHq76X7Q</td>\n",
       "      <td>Marquez Hata Yaptı Ama... (MotoGP 2017 - Valen...</td>\n",
       "      <td>2018-03-09T12:17:55Z</td>\n",
       "      <td>1105</td>\n",
       "      <td>13</td>\n",
       "      <td>3</td>\n",
       "      <td>PT34S</td>\n",
       "    </tr>\n",
       "    <tr>\n",
       "      <th>9409</th>\n",
       "      <td>mT1liYCSyho</td>\n",
       "      <td>S Sport YouTube'da!</td>\n",
       "      <td>2018-03-08T15:13:03Z</td>\n",
       "      <td>10441</td>\n",
       "      <td>51</td>\n",
       "      <td>8</td>\n",
       "      <td>PT1M3S</td>\n",
       "    </tr>\n",
       "  </tbody>\n",
       "</table>\n",
       "<p>9410 rows × 7 columns</p>\n",
       "</div>"
      ],
      "text/plain": [
       "               Id                                              Title  \\\n",
       "0     V0jlhEAScls                               NBA I En İyi Oyunlar   \n",
       "1     EE9j8Vjslcs  Denver Nuggets - Oklahoma City Thunder Maç Öze...   \n",
       "2     2Mo1uJpiBl4  Golden State Warriors - Orlando Magic Maç Özet...   \n",
       "3     vN2q_eycKWw  Olimpia Milano - Real Madrid (77-83) - Maç Öze...   \n",
       "4     y2mZrITfk7c  Bayern Münih - Anadolu Efes (81-78) - Maç Özet...   \n",
       "...           ...                                                ...   \n",
       "9405  IvcdLnQOaJo  Yoel Romero'nun Luke Rockhold'u Nakavt Ettiği ...   \n",
       "9406  _Q_uV0PuPB0  Jessica Andrade - Tecia Torres Dövüşünde Gecen...   \n",
       "9407  btVGCtXxKzg  Marc Marquez'in Şampiyonluk Heyecanı! (MotoGP ...   \n",
       "9408  xQgGHq76X7Q  Marquez Hata Yaptı Ama... (MotoGP 2017 - Valen...   \n",
       "9409  mT1liYCSyho                                S Sport YouTube'da!   \n",
       "\n",
       "            Published_date  Views  Likes  Comments Duration  \n",
       "0     2022-11-04T07:00:11Z    341     14         0  PT1M18S  \n",
       "1     2022-11-04T06:38:33Z    124      4         0  PT1M36S  \n",
       "2     2022-11-04T06:38:30Z    393      7         2   PT2M3S  \n",
       "3     2022-11-03T22:12:26Z   4713     70         8   PT9M9S  \n",
       "4     2022-11-03T21:48:40Z  22085    299        99  PT8M19S  \n",
       "...                    ...    ...    ...       ...      ...  \n",
       "9405  2018-03-09T12:17:56Z   1837     21         5    PT34S  \n",
       "9406  2018-03-09T12:17:55Z   1147     12         1    PT25S  \n",
       "9407  2018-03-09T12:17:55Z    353      4         4   PT2M7S  \n",
       "9408  2018-03-09T12:17:55Z   1105     13         3    PT34S  \n",
       "9409  2018-03-08T15:13:03Z  10441     51         8   PT1M3S  \n",
       "\n",
       "[9410 rows x 7 columns]"
      ]
     },
     "execution_count": 28,
     "metadata": {},
     "output_type": "execute_result"
    }
   ],
   "source": [
    "pd.read_csv('csv/video_data_04-11-22.csv')"
   ]
  },
  {
   "cell_type": "code",
   "execution_count": null,
   "id": "01dd462e",
   "metadata": {},
   "outputs": [],
   "source": []
  }
 ],
 "metadata": {
  "kernelspec": {
   "display_name": "Python 3 (ipykernel)",
   "language": "python",
   "name": "python3"
  },
  "language_info": {
   "codemirror_mode": {
    "name": "ipython",
    "version": 3
   },
   "file_extension": ".py",
   "mimetype": "text/x-python",
   "name": "python",
   "nbconvert_exporter": "python",
   "pygments_lexer": "ipython3",
   "version": "3.8.13"
  }
 },
 "nbformat": 4,
 "nbformat_minor": 5
}
