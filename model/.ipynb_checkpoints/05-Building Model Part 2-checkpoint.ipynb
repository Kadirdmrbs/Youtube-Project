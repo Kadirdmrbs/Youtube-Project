{
 "cells": [
  {
   "cell_type": "code",
   "execution_count": 1,
   "id": "92ff0073",
   "metadata": {},
   "outputs": [],
   "source": [
    "import psycopg2\n",
    "import pandas as pd\n",
    "# Connection parameters, yours will be different\n",
    "param_dic = {\n",
    "    \"host\"      : \"XXX\",\n",
    "    \"database\"  : \"xxx\",\n",
    "    \"user\"      : \"xxx\",\n",
    "    \"password\"  : \"xxx\",\n",
    "    \"port\"      : \"5432\"\n",
    "}\n",
    "def connect(params_dic):\n",
    "    \"\"\" Connect to the PostgreSQL database server \"\"\"\n",
    "    conn = None\n",
    "    try:\n",
    "        # connect to the PostgreSQL server\n",
    "        print('Connecting to the PostgreSQL database...')\n",
    "        conn = psycopg2.connect(**params_dic)\n",
    "    except (Exception, psycopg2.DatabaseError) as error:\n",
    "        print(error)\n",
    "        sys.exit(1) \n",
    "    print(\"Connection successful\")\n",
    "    return conn"
   ]
  },
  {
   "cell_type": "code",
   "execution_count": 2,
   "id": "33a6c6e1",
   "metadata": {},
   "outputs": [],
   "source": [
    "def postgresql_to_dataframe(conn, select_query, column_names):\n",
    "    \"\"\"\n",
    "    Tranform a SELECT query into a pandas dataframe\n",
    "    \"\"\"\n",
    "    cursor = conn.cursor()\n",
    "    try:\n",
    "        cursor.execute(select_query)\n",
    "    except (Exception, psycopg2.DatabaseError) as error:\n",
    "        print(\"Error: %s\" % error)\n",
    "        cursor.close()\n",
    "        return 1\n",
    "    \n",
    "    # Naturally we get a list of tupples\n",
    "    tupples = cursor.fetchall()\n",
    "    cursor.close()\n",
    "    \n",
    "    # We just need to turn it into a pandas dataframe\n",
    "    df = pd.DataFrame(tupples, columns=column_names)\n",
    "    return df"
   ]
  },
  {
   "cell_type": "code",
   "execution_count": 3,
   "id": "321a3182",
   "metadata": {},
   "outputs": [
    {
     "name": "stdout",
     "output_type": "stream",
     "text": [
      "Connecting to the PostgreSQL database...\n",
      "Connection successful\n"
     ]
    },
    {
     "data": {
      "text/html": [
       "<div>\n",
       "<style scoped>\n",
       "    .dataframe tbody tr th:only-of-type {\n",
       "        vertical-align: middle;\n",
       "    }\n",
       "\n",
       "    .dataframe tbody tr th {\n",
       "        vertical-align: top;\n",
       "    }\n",
       "\n",
       "    .dataframe thead th {\n",
       "        text-align: right;\n",
       "    }\n",
       "</style>\n",
       "<table border=\"1\" class=\"dataframe\">\n",
       "  <thead>\n",
       "    <tr style=\"text-align: right;\">\n",
       "      <th></th>\n",
       "      <th>video_id</th>\n",
       "      <th>video_title</th>\n",
       "      <th>upload_date</th>\n",
       "      <th>view_count</th>\n",
       "      <th>like_count</th>\n",
       "      <th>comment_count</th>\n",
       "      <th>categories</th>\n",
       "      <th>year</th>\n",
       "    </tr>\n",
       "  </thead>\n",
       "  <tbody>\n",
       "    <tr>\n",
       "      <th>0</th>\n",
       "      <td>AjRXlSwk-E0</td>\n",
       "      <td>iddaa.com | Salernitana - Torino (0-1) - Maç Ö...</td>\n",
       "      <td>2022-04-02</td>\n",
       "      <td>2034</td>\n",
       "      <td>71</td>\n",
       "      <td>7</td>\n",
       "      <td>Serie A</td>\n",
       "      <td>2022</td>\n",
       "    </tr>\n",
       "    <tr>\n",
       "      <th>1</th>\n",
       "      <td>F9xbW-yWtu8</td>\n",
       "      <td>iddaa.com | Brighton - Norwich (0-0) - Maç Öze...</td>\n",
       "      <td>2022-04-02</td>\n",
       "      <td>3021</td>\n",
       "      <td>97</td>\n",
       "      <td>8</td>\n",
       "      <td>Premier League</td>\n",
       "      <td>2022</td>\n",
       "    </tr>\n",
       "    <tr>\n",
       "      <th>2</th>\n",
       "      <td>leUGYEfLUBY</td>\n",
       "      <td>iddaa.com | Wolves - Aston Villa (2-1) - Maç Ö...</td>\n",
       "      <td>2022-04-02</td>\n",
       "      <td>24705</td>\n",
       "      <td>489</td>\n",
       "      <td>31</td>\n",
       "      <td>Premier League</td>\n",
       "      <td>2022</td>\n",
       "    </tr>\n",
       "    <tr>\n",
       "      <th>3</th>\n",
       "      <td>R2f6vHRvOJ0</td>\n",
       "      <td>Andrea Belotti İle Torino 1-0 Öne Geçti! #SerieA</td>\n",
       "      <td>2022-04-02</td>\n",
       "      <td>2497</td>\n",
       "      <td>60</td>\n",
       "      <td>5</td>\n",
       "      <td>Serie A</td>\n",
       "      <td>2022</td>\n",
       "    </tr>\n",
       "    <tr>\n",
       "      <th>4</th>\n",
       "      <td>SKZ8pxV-KGw</td>\n",
       "      <td>iddaa.com | Manchester United - Leicester City...</td>\n",
       "      <td>2022-04-02</td>\n",
       "      <td>186284</td>\n",
       "      <td>3546</td>\n",
       "      <td>279</td>\n",
       "      <td>Premier League</td>\n",
       "      <td>2022</td>\n",
       "    </tr>\n",
       "  </tbody>\n",
       "</table>\n",
       "</div>"
      ],
      "text/plain": [
       "      video_id                                        video_title upload_date  \\\n",
       "0  AjRXlSwk-E0  iddaa.com | Salernitana - Torino (0-1) - Maç Ö...  2022-04-02   \n",
       "1  F9xbW-yWtu8  iddaa.com | Brighton - Norwich (0-0) - Maç Öze...  2022-04-02   \n",
       "2  leUGYEfLUBY  iddaa.com | Wolves - Aston Villa (2-1) - Maç Ö...  2022-04-02   \n",
       "3  R2f6vHRvOJ0   Andrea Belotti İle Torino 1-0 Öne Geçti! #SerieA  2022-04-02   \n",
       "4  SKZ8pxV-KGw  iddaa.com | Manchester United - Leicester City...  2022-04-02   \n",
       "\n",
       "   view_count  like_count  comment_count      categories  year  \n",
       "0        2034          71              7         Serie A  2022  \n",
       "1        3021          97              8  Premier League  2022  \n",
       "2       24705         489             31  Premier League  2022  \n",
       "3        2497          60              5         Serie A  2022  \n",
       "4      186284        3546            279  Premier League  2022  "
      ]
     },
     "execution_count": 3,
     "metadata": {},
     "output_type": "execute_result"
    }
   ],
   "source": [
    "# Connect to the database\n",
    "conn = connect(param_dic)\n",
    "column_names = ['video_id', 'video_title', 'upload_date', 'view_count','like_count', 'comment_count', 'categories', 'year']\n",
    "# Execute the \"SELECT *\" query\n",
    "df = postgresql_to_dataframe(conn, \"select * from videos\", column_names)\n",
    "df.head()"
   ]
  },
  {
   "cell_type": "code",
   "execution_count": 4,
   "id": "d662cd92",
   "metadata": {},
   "outputs": [],
   "source": [
    "df2 = pd.get_dummies(df['categories'])\n",
    "df3 = pd.concat([df,df2],axis=1)\n",
    "df4 = pd.get_dummies(df['year'])\n",
    "df5 = pd.concat([df3,df4],axis=1)"
   ]
  },
  {
   "cell_type": "code",
   "execution_count": 5,
   "id": "85c80ad9",
   "metadata": {},
   "outputs": [
    {
     "data": {
      "text/html": [
       "<div>\n",
       "<style scoped>\n",
       "    .dataframe tbody tr th:only-of-type {\n",
       "        vertical-align: middle;\n",
       "    }\n",
       "\n",
       "    .dataframe tbody tr th {\n",
       "        vertical-align: top;\n",
       "    }\n",
       "\n",
       "    .dataframe thead th {\n",
       "        text-align: right;\n",
       "    }\n",
       "</style>\n",
       "<table border=\"1\" class=\"dataframe\">\n",
       "  <thead>\n",
       "    <tr style=\"text-align: right;\">\n",
       "      <th></th>\n",
       "      <th>video_id</th>\n",
       "      <th>video_title</th>\n",
       "      <th>upload_date</th>\n",
       "      <th>view_count</th>\n",
       "      <th>like_count</th>\n",
       "      <th>comment_count</th>\n",
       "      <th>categories</th>\n",
       "      <th>year</th>\n",
       "      <th>Formula 1</th>\n",
       "      <th>International</th>\n",
       "      <th>NBA</th>\n",
       "      <th>Premier League</th>\n",
       "      <th>Serie A</th>\n",
       "      <th>WWE</th>\n",
       "      <th>other</th>\n",
       "      <th>2021</th>\n",
       "      <th>2022</th>\n",
       "    </tr>\n",
       "  </thead>\n",
       "  <tbody>\n",
       "    <tr>\n",
       "      <th>0</th>\n",
       "      <td>AjRXlSwk-E0</td>\n",
       "      <td>iddaa.com | Salernitana - Torino (0-1) - Maç Ö...</td>\n",
       "      <td>2022-04-02</td>\n",
       "      <td>2034</td>\n",
       "      <td>71</td>\n",
       "      <td>7</td>\n",
       "      <td>Serie A</td>\n",
       "      <td>2022</td>\n",
       "      <td>0</td>\n",
       "      <td>0</td>\n",
       "      <td>0</td>\n",
       "      <td>0</td>\n",
       "      <td>1</td>\n",
       "      <td>0</td>\n",
       "      <td>0</td>\n",
       "      <td>0</td>\n",
       "      <td>1</td>\n",
       "    </tr>\n",
       "    <tr>\n",
       "      <th>1</th>\n",
       "      <td>F9xbW-yWtu8</td>\n",
       "      <td>iddaa.com | Brighton - Norwich (0-0) - Maç Öze...</td>\n",
       "      <td>2022-04-02</td>\n",
       "      <td>3021</td>\n",
       "      <td>97</td>\n",
       "      <td>8</td>\n",
       "      <td>Premier League</td>\n",
       "      <td>2022</td>\n",
       "      <td>0</td>\n",
       "      <td>0</td>\n",
       "      <td>0</td>\n",
       "      <td>1</td>\n",
       "      <td>0</td>\n",
       "      <td>0</td>\n",
       "      <td>0</td>\n",
       "      <td>0</td>\n",
       "      <td>1</td>\n",
       "    </tr>\n",
       "    <tr>\n",
       "      <th>2</th>\n",
       "      <td>leUGYEfLUBY</td>\n",
       "      <td>iddaa.com | Wolves - Aston Villa (2-1) - Maç Ö...</td>\n",
       "      <td>2022-04-02</td>\n",
       "      <td>24705</td>\n",
       "      <td>489</td>\n",
       "      <td>31</td>\n",
       "      <td>Premier League</td>\n",
       "      <td>2022</td>\n",
       "      <td>0</td>\n",
       "      <td>0</td>\n",
       "      <td>0</td>\n",
       "      <td>1</td>\n",
       "      <td>0</td>\n",
       "      <td>0</td>\n",
       "      <td>0</td>\n",
       "      <td>0</td>\n",
       "      <td>1</td>\n",
       "    </tr>\n",
       "    <tr>\n",
       "      <th>3</th>\n",
       "      <td>R2f6vHRvOJ0</td>\n",
       "      <td>Andrea Belotti İle Torino 1-0 Öne Geçti! #SerieA</td>\n",
       "      <td>2022-04-02</td>\n",
       "      <td>2497</td>\n",
       "      <td>60</td>\n",
       "      <td>5</td>\n",
       "      <td>Serie A</td>\n",
       "      <td>2022</td>\n",
       "      <td>0</td>\n",
       "      <td>0</td>\n",
       "      <td>0</td>\n",
       "      <td>0</td>\n",
       "      <td>1</td>\n",
       "      <td>0</td>\n",
       "      <td>0</td>\n",
       "      <td>0</td>\n",
       "      <td>1</td>\n",
       "    </tr>\n",
       "    <tr>\n",
       "      <th>4</th>\n",
       "      <td>SKZ8pxV-KGw</td>\n",
       "      <td>iddaa.com | Manchester United - Leicester City...</td>\n",
       "      <td>2022-04-02</td>\n",
       "      <td>186284</td>\n",
       "      <td>3546</td>\n",
       "      <td>279</td>\n",
       "      <td>Premier League</td>\n",
       "      <td>2022</td>\n",
       "      <td>0</td>\n",
       "      <td>0</td>\n",
       "      <td>0</td>\n",
       "      <td>1</td>\n",
       "      <td>0</td>\n",
       "      <td>0</td>\n",
       "      <td>0</td>\n",
       "      <td>0</td>\n",
       "      <td>1</td>\n",
       "    </tr>\n",
       "  </tbody>\n",
       "</table>\n",
       "</div>"
      ],
      "text/plain": [
       "      video_id                                        video_title upload_date  \\\n",
       "0  AjRXlSwk-E0  iddaa.com | Salernitana - Torino (0-1) - Maç Ö...  2022-04-02   \n",
       "1  F9xbW-yWtu8  iddaa.com | Brighton - Norwich (0-0) - Maç Öze...  2022-04-02   \n",
       "2  leUGYEfLUBY  iddaa.com | Wolves - Aston Villa (2-1) - Maç Ö...  2022-04-02   \n",
       "3  R2f6vHRvOJ0   Andrea Belotti İle Torino 1-0 Öne Geçti! #SerieA  2022-04-02   \n",
       "4  SKZ8pxV-KGw  iddaa.com | Manchester United - Leicester City...  2022-04-02   \n",
       "\n",
       "   view_count  like_count  comment_count      categories  year  Formula 1  \\\n",
       "0        2034          71              7         Serie A  2022          0   \n",
       "1        3021          97              8  Premier League  2022          0   \n",
       "2       24705         489             31  Premier League  2022          0   \n",
       "3        2497          60              5         Serie A  2022          0   \n",
       "4      186284        3546            279  Premier League  2022          0   \n",
       "\n",
       "   International  NBA  Premier League  Serie A  WWE  other  2021  2022  \n",
       "0              0    0               0        1    0      0     0     1  \n",
       "1              0    0               1        0    0      0     0     1  \n",
       "2              0    0               1        0    0      0     0     1  \n",
       "3              0    0               0        1    0      0     0     1  \n",
       "4              0    0               1        0    0      0     0     1  "
      ]
     },
     "execution_count": 5,
     "metadata": {},
     "output_type": "execute_result"
    }
   ],
   "source": [
    "df5.head()"
   ]
  },
  {
   "cell_type": "code",
   "execution_count": 6,
   "id": "56853ac2",
   "metadata": {},
   "outputs": [
    {
     "name": "stderr",
     "output_type": "stream",
     "text": [
      "C:\\Users\\kadir\\anaconda3\\envs\\youtubeproject\\lib\\site-packages\\sklearn\\utils\\validation.py:1688: FutureWarning: Feature names only support names that are all strings. Got feature names with dtypes: ['int', 'str']. An error will be raised in 1.2.\n",
      "  warnings.warn(\n",
      "C:\\Users\\kadir\\anaconda3\\envs\\youtubeproject\\lib\\site-packages\\sklearn\\utils\\validation.py:1688: FutureWarning: Feature names only support names that are all strings. Got feature names with dtypes: ['int', 'str']. An error will be raised in 1.2.\n",
      "  warnings.warn(\n",
      "C:\\Users\\kadir\\anaconda3\\envs\\youtubeproject\\lib\\site-packages\\sklearn\\utils\\validation.py:1688: FutureWarning: Feature names only support names that are all strings. Got feature names with dtypes: ['int', 'str']. An error will be raised in 1.2.\n",
      "  warnings.warn(\n"
     ]
    }
   ],
   "source": [
    "from sklearn.model_selection import train_test_split\n",
    "from sklearn.preprocessing import StandardScaler\n",
    "\n",
    "## CREATE X and y\n",
    "X = df5.drop(['video_id','video_title','upload_date','categories','view_count','year'],axis=1)\n",
    "y = df5['view_count']\n",
    "\n",
    "# TRAIN TEST SPLIT\n",
    "X_train, X_test, y_train, y_test = train_test_split(X, y, test_size=0.3, random_state=101)\n",
    "\n",
    "# SCALE DATA\n",
    "scaler = StandardScaler()\n",
    "scaler.fit(X_train)\n",
    "X_train = scaler.transform(X_train)\n",
    "X_test = scaler.transform(X_test)"
   ]
  },
  {
   "cell_type": "markdown",
   "id": "918df8ed",
   "metadata": {},
   "source": [
    "## Support Vector Regression"
   ]
  },
  {
   "cell_type": "code",
   "execution_count": 36,
   "id": "00bd7431",
   "metadata": {},
   "outputs": [
    {
     "name": "stdout",
     "output_type": "stream",
     "text": [
      "Fitting 5 folds for each of 1512 candidates, totalling 7560 fits\n"
     ]
    },
    {
     "data": {
      "text/plain": [
       "GridSearchCV(cv=5, estimator=SVR(),\n",
       "             param_grid={'C': [0.001, 0.01, 0.1, 0.5, 1, 2, 3],\n",
       "                         'degree': [2, 3, 4, 5, 6, 7],\n",
       "                         'epsilon': [0, 0.01, 0.1, 0.5, 1, 2],\n",
       "                         'gamma': ['scale', 'auto'],\n",
       "                         'kernel': ['linear', 'rbf', 'poly']},\n",
       "             scoring='neg_mean_squared_error', verbose=1)"
      ]
     },
     "execution_count": 36,
     "metadata": {},
     "output_type": "execute_result"
    }
   ],
   "source": [
    "from sklearn.svm import SVR\n",
    "from sklearn.model_selection import GridSearchCV\n",
    "\n",
    "svr = SVR()\n",
    "param_grid = {'C':[0.001,0.01,0.1,0.5,1,2,3],\n",
    "             'kernel':['linear','rbf','poly'],\n",
    "              'gamma':['scale','auto'],\n",
    "              'degree':[2,3,4,5,6,7],\n",
    "              'epsilon':[0,0.01,0.1,0.5,1,2]}\n",
    "\n",
    "grid = GridSearchCV(svr,param_grid=param_grid,cv=5,verbose=1,scoring='neg_mean_squared_error')\n",
    "grid.fit(X_train,y_train)"
   ]
  },
  {
   "cell_type": "code",
   "execution_count": 37,
   "id": "c98b6d42",
   "metadata": {},
   "outputs": [
    {
     "data": {
      "text/plain": [
       "{'C': 1, 'degree': 6, 'epsilon': 0, 'gamma': 'auto', 'kernel': 'poly'}"
      ]
     },
     "execution_count": 37,
     "metadata": {},
     "output_type": "execute_result"
    }
   ],
   "source": [
    "grid.best_params_"
   ]
  },
  {
   "cell_type": "code",
   "execution_count": 38,
   "id": "48768bfb",
   "metadata": {},
   "outputs": [],
   "source": [
    "grid_preds = grid.predict(X_test)"
   ]
  },
  {
   "cell_type": "code",
   "execution_count": 14,
   "id": "cc5523b0",
   "metadata": {},
   "outputs": [],
   "source": [
    "from sklearn.metrics import mean_absolute_error,mean_squared_error\n",
    "import numpy as np"
   ]
  },
  {
   "cell_type": "code",
   "execution_count": 39,
   "id": "b87a027c",
   "metadata": {},
   "outputs": [
    {
     "data": {
      "text/plain": [
       "96834.8941974266"
      ]
     },
     "execution_count": 39,
     "metadata": {},
     "output_type": "execute_result"
    }
   ],
   "source": [
    "mean_absolute_error(y_test,grid_preds)"
   ]
  },
  {
   "cell_type": "code",
   "execution_count": 40,
   "id": "e21dc4d5",
   "metadata": {},
   "outputs": [
    {
     "data": {
      "text/plain": [
       "266224.72266033903"
      ]
     },
     "execution_count": 40,
     "metadata": {},
     "output_type": "execute_result"
    }
   ],
   "source": [
    "np.sqrt(mean_squared_error(y_test,grid_preds))"
   ]
  },
  {
   "cell_type": "markdown",
   "id": "25d46197",
   "metadata": {},
   "source": [
    "## KNN Regression"
   ]
  },
  {
   "cell_type": "code",
   "execution_count": 22,
   "id": "c54c6838",
   "metadata": {},
   "outputs": [],
   "source": [
    "from sklearn.neighbors import KNeighborsRegressor"
   ]
  },
  {
   "cell_type": "code",
   "execution_count": 23,
   "id": "a707794c",
   "metadata": {},
   "outputs": [],
   "source": [
    "knn = KNeighborsRegressor()"
   ]
  },
  {
   "cell_type": "code",
   "execution_count": 24,
   "id": "91c923f7",
   "metadata": {},
   "outputs": [],
   "source": [
    "k_values = list(range(1,20))\n",
    "param_grid = {'n_neighbors': k_values}"
   ]
  },
  {
   "cell_type": "code",
   "execution_count": 30,
   "id": "cdab207e",
   "metadata": {},
   "outputs": [
    {
     "name": "stdout",
     "output_type": "stream",
     "text": [
      "Fitting 5 folds for each of 19 candidates, totalling 95 fits\n"
     ]
    },
    {
     "data": {
      "text/plain": [
       "GridSearchCV(cv=5, estimator=KNeighborsRegressor(),\n",
       "             param_grid={'n_neighbors': [1, 2, 3, 4, 5, 6, 7, 8, 9, 10, 11, 12,\n",
       "                                         13, 14, 15, 16, 17, 18, 19]},\n",
       "             scoring='neg_mean_squared_error', verbose=1)"
      ]
     },
     "execution_count": 30,
     "metadata": {},
     "output_type": "execute_result"
    }
   ],
   "source": [
    "grid = GridSearchCV(knn,param_grid=param_grid,cv=5,verbose=1,scoring='neg_mean_squared_error')\n",
    "grid.fit(X_train,y_train)"
   ]
  },
  {
   "cell_type": "code",
   "execution_count": 32,
   "id": "c1bc302b",
   "metadata": {},
   "outputs": [],
   "source": [
    "grid_preds = grid.predict(X_test)"
   ]
  },
  {
   "cell_type": "code",
   "execution_count": 33,
   "id": "0e4fc47d",
   "metadata": {},
   "outputs": [
    {
     "data": {
      "text/plain": [
       "{'n_neighbors': 2}"
      ]
     },
     "execution_count": 33,
     "metadata": {},
     "output_type": "execute_result"
    }
   ],
   "source": [
    "grid.best_params_"
   ]
  },
  {
   "cell_type": "code",
   "execution_count": 34,
   "id": "f22b1935",
   "metadata": {},
   "outputs": [
    {
     "data": {
      "text/plain": [
       "33749.84451219512"
      ]
     },
     "execution_count": 34,
     "metadata": {},
     "output_type": "execute_result"
    }
   ],
   "source": [
    "mean_absolute_error(y_test,grid_preds)"
   ]
  },
  {
   "cell_type": "code",
   "execution_count": 35,
   "id": "2667188f",
   "metadata": {},
   "outputs": [
    {
     "data": {
      "text/plain": [
       "108273.569291285"
      ]
     },
     "execution_count": 35,
     "metadata": {},
     "output_type": "execute_result"
    }
   ],
   "source": [
    "np.sqrt(mean_squared_error(y_test,grid_preds))"
   ]
  },
  {
   "cell_type": "code",
   "execution_count": 41,
   "id": "91fd7615",
   "metadata": {},
   "outputs": [],
   "source": [
    "df.to_csv('finall.csv')"
   ]
  },
  {
   "cell_type": "code",
   "execution_count": 46,
   "id": "889b3bb7",
   "metadata": {},
   "outputs": [
    {
     "data": {
      "text/html": [
       "<div>\n",
       "<style scoped>\n",
       "    .dataframe tbody tr th:only-of-type {\n",
       "        vertical-align: middle;\n",
       "    }\n",
       "\n",
       "    .dataframe tbody tr th {\n",
       "        vertical-align: top;\n",
       "    }\n",
       "\n",
       "    .dataframe thead th {\n",
       "        text-align: right;\n",
       "    }\n",
       "</style>\n",
       "<table border=\"1\" class=\"dataframe\">\n",
       "  <thead>\n",
       "    <tr style=\"text-align: right;\">\n",
       "      <th></th>\n",
       "      <th>video_id</th>\n",
       "      <th>video_title</th>\n",
       "      <th>upload_date</th>\n",
       "      <th>view_count</th>\n",
       "      <th>like_count</th>\n",
       "      <th>comment_count</th>\n",
       "      <th>categories</th>\n",
       "      <th>year</th>\n",
       "    </tr>\n",
       "  </thead>\n",
       "  <tbody>\n",
       "    <tr>\n",
       "      <th>0</th>\n",
       "      <td>AjRXlSwk-E0</td>\n",
       "      <td>iddaa.com | Salernitana - Torino (0-1) - Maç Ö...</td>\n",
       "      <td>2022-04-02</td>\n",
       "      <td>2034</td>\n",
       "      <td>71</td>\n",
       "      <td>7</td>\n",
       "      <td>Serie A</td>\n",
       "      <td>2022</td>\n",
       "    </tr>\n",
       "    <tr>\n",
       "      <th>1</th>\n",
       "      <td>F9xbW-yWtu8</td>\n",
       "      <td>iddaa.com | Brighton - Norwich (0-0) - Maç Öze...</td>\n",
       "      <td>2022-04-02</td>\n",
       "      <td>3021</td>\n",
       "      <td>97</td>\n",
       "      <td>8</td>\n",
       "      <td>Premier League</td>\n",
       "      <td>2022</td>\n",
       "    </tr>\n",
       "    <tr>\n",
       "      <th>2</th>\n",
       "      <td>leUGYEfLUBY</td>\n",
       "      <td>iddaa.com | Wolves - Aston Villa (2-1) - Maç Ö...</td>\n",
       "      <td>2022-04-02</td>\n",
       "      <td>24705</td>\n",
       "      <td>489</td>\n",
       "      <td>31</td>\n",
       "      <td>Premier League</td>\n",
       "      <td>2022</td>\n",
       "    </tr>\n",
       "    <tr>\n",
       "      <th>3</th>\n",
       "      <td>R2f6vHRvOJ0</td>\n",
       "      <td>Andrea Belotti İle Torino 1-0 Öne Geçti! #SerieA</td>\n",
       "      <td>2022-04-02</td>\n",
       "      <td>2497</td>\n",
       "      <td>60</td>\n",
       "      <td>5</td>\n",
       "      <td>Serie A</td>\n",
       "      <td>2022</td>\n",
       "    </tr>\n",
       "    <tr>\n",
       "      <th>4</th>\n",
       "      <td>SKZ8pxV-KGw</td>\n",
       "      <td>iddaa.com | Manchester United - Leicester City...</td>\n",
       "      <td>2022-04-02</td>\n",
       "      <td>186284</td>\n",
       "      <td>3546</td>\n",
       "      <td>279</td>\n",
       "      <td>Premier League</td>\n",
       "      <td>2022</td>\n",
       "    </tr>\n",
       "    <tr>\n",
       "      <th>...</th>\n",
       "      <td>...</td>\n",
       "      <td>...</td>\n",
       "      <td>...</td>\n",
       "      <td>...</td>\n",
       "      <td>...</td>\n",
       "      <td>...</td>\n",
       "      <td>...</td>\n",
       "      <td>...</td>\n",
       "    </tr>\n",
       "    <tr>\n",
       "      <th>540</th>\n",
       "      <td>_5a83HAcN3E</td>\n",
       "      <td>Merih Demiral Kanlar İçinde Kaldı ve Üstüne Sa...</td>\n",
       "      <td>2021-09-18</td>\n",
       "      <td>1412971</td>\n",
       "      <td>17328</td>\n",
       "      <td>971</td>\n",
       "      <td>Serie A</td>\n",
       "      <td>2021</td>\n",
       "    </tr>\n",
       "    <tr>\n",
       "      <th>541</th>\n",
       "      <td>kE_99E_GgzY</td>\n",
       "      <td>iddaa.com | Manchester United - Newcastle Unit...</td>\n",
       "      <td>2021-09-11</td>\n",
       "      <td>3480105</td>\n",
       "      <td>68015</td>\n",
       "      <td>4585</td>\n",
       "      <td>Premier League</td>\n",
       "      <td>2021</td>\n",
       "    </tr>\n",
       "    <tr>\n",
       "      <th>542</th>\n",
       "      <td>IWiiWKVWpjY</td>\n",
       "      <td>Olaylı Start | Formula 1 I 2021 Britanya GP</td>\n",
       "      <td>2021-07-18</td>\n",
       "      <td>590016</td>\n",
       "      <td>3673</td>\n",
       "      <td>614</td>\n",
       "      <td>Formula 1</td>\n",
       "      <td>2021</td>\n",
       "    </tr>\n",
       "    <tr>\n",
       "      <th>543</th>\n",
       "      <td>NMBV95LjgLY</td>\n",
       "      <td>Rey Mysterio ve Oğlu İntikam Peşinde! | WWE Sm...</td>\n",
       "      <td>2021-06-12</td>\n",
       "      <td>1072358</td>\n",
       "      <td>12163</td>\n",
       "      <td>1130</td>\n",
       "      <td>WWE</td>\n",
       "      <td>2021</td>\n",
       "    </tr>\n",
       "    <tr>\n",
       "      <th>544</th>\n",
       "      <td>BD5CC6yyZNM</td>\n",
       "      <td>Norveç 0-3 Türkiye | Maç Özeti | 2022 Dünya Ku...</td>\n",
       "      <td>2021-03-28</td>\n",
       "      <td>1524822</td>\n",
       "      <td>25384</td>\n",
       "      <td>2045</td>\n",
       "      <td>International</td>\n",
       "      <td>2021</td>\n",
       "    </tr>\n",
       "  </tbody>\n",
       "</table>\n",
       "<p>545 rows × 8 columns</p>\n",
       "</div>"
      ],
      "text/plain": [
       "        video_id                                        video_title  \\\n",
       "0    AjRXlSwk-E0  iddaa.com | Salernitana - Torino (0-1) - Maç Ö...   \n",
       "1    F9xbW-yWtu8  iddaa.com | Brighton - Norwich (0-0) - Maç Öze...   \n",
       "2    leUGYEfLUBY  iddaa.com | Wolves - Aston Villa (2-1) - Maç Ö...   \n",
       "3    R2f6vHRvOJ0   Andrea Belotti İle Torino 1-0 Öne Geçti! #SerieA   \n",
       "4    SKZ8pxV-KGw  iddaa.com | Manchester United - Leicester City...   \n",
       "..           ...                                                ...   \n",
       "540  _5a83HAcN3E  Merih Demiral Kanlar İçinde Kaldı ve Üstüne Sa...   \n",
       "541  kE_99E_GgzY  iddaa.com | Manchester United - Newcastle Unit...   \n",
       "542  IWiiWKVWpjY        Olaylı Start | Formula 1 I 2021 Britanya GP   \n",
       "543  NMBV95LjgLY  Rey Mysterio ve Oğlu İntikam Peşinde! | WWE Sm...   \n",
       "544  BD5CC6yyZNM  Norveç 0-3 Türkiye | Maç Özeti | 2022 Dünya Ku...   \n",
       "\n",
       "    upload_date  view_count  like_count  comment_count      categories  year  \n",
       "0    2022-04-02        2034          71              7         Serie A  2022  \n",
       "1    2022-04-02        3021          97              8  Premier League  2022  \n",
       "2    2022-04-02       24705         489             31  Premier League  2022  \n",
       "3    2022-04-02        2497          60              5         Serie A  2022  \n",
       "4    2022-04-02      186284        3546            279  Premier League  2022  \n",
       "..          ...         ...         ...            ...             ...   ...  \n",
       "540  2021-09-18     1412971       17328            971         Serie A  2021  \n",
       "541  2021-09-11     3480105       68015           4585  Premier League  2021  \n",
       "542  2021-07-18      590016        3673            614       Formula 1  2021  \n",
       "543  2021-06-12     1072358       12163           1130             WWE  2021  \n",
       "544  2021-03-28     1524822       25384           2045   International  2021  \n",
       "\n",
       "[545 rows x 8 columns]"
      ]
     },
     "execution_count": 46,
     "metadata": {},
     "output_type": "execute_result"
    }
   ],
   "source": [
    "pd.read_csv('finall.csv',index_col=0)"
   ]
  },
  {
   "cell_type": "code",
   "execution_count": null,
   "id": "2001b739",
   "metadata": {},
   "outputs": [],
   "source": []
  }
 ],
 "metadata": {
  "kernelspec": {
   "display_name": "Python 3",
   "language": "python",
   "name": "python3"
  },
  "language_info": {
   "codemirror_mode": {
    "name": "ipython",
    "version": 3
   },
   "file_extension": ".py",
   "mimetype": "text/x-python",
   "name": "python",
   "nbconvert_exporter": "python",
   "pygments_lexer": "ipython3",
   "version": "3.8.8"
  }
 },
 "nbformat": 4,
 "nbformat_minor": 5
}
